{
 "cells": [
  {
   "cell_type": "code",
   "execution_count": 70,
   "metadata": {},
   "outputs": [],
   "source": [
    "import sys\n",
    "# !{sys.executable} -m pip install kaggle\n",
    "# !{sys.executable} -m pip install imblearn\n",
    "\n",
    "import os\n",
    "import numpy as np\n",
    "np.random.seed(42)\n",
    "import pandas as pd\n",
    "import matplotlib.pyplot as plt\n",
    "import imblearn\n",
    "from imblearn.over_sampling import RandomOverSampler\n",
    "\n",
    "import sklearn\n",
    "from sklearn.linear_model import LogisticRegression\n",
    "from sklearn.mixture import GaussianMixture\n",
    "from sklearn.model_selection import StratifiedKFold\n",
    "from sklearn.metrics import roc_auc_score"
   ]
  },
  {
   "cell_type": "code",
   "execution_count": 71,
   "metadata": {},
   "outputs": [
    {
     "name": "stdout",
     "output_type": "stream",
     "text": [
      "otto-group-product-classification-challenge.zip: Skipping, found more recently modified local copy (use --force to force download)\n"
     ]
    }
   ],
   "source": [
    "os.environ['KAGGLE_USERNAME'] = \"alexevenson\" # username from your Kaggle account\n",
    "os.environ['KAGGLE_KEY'] = \"481959975dd97b64d72504effae16d5e\" # key from your kaggle account\n",
    "!kaggle competitions download otto-group-product-classification-challenge"
   ]
  },
  {
   "cell_type": "code",
   "execution_count": 102,
   "metadata": {},
   "outputs": [],
   "source": [
    "# !unzip 'otto-group-product-classification-challenge.zip'\n",
    "\n",
    "all_train_raw = pd.read_csv('./train.csv')\n",
    "test_raw = pd.read_csv('./test.csv')\n",
    "\n",
    "def preprocess(data):\n",
    "    data = data.drop('id', axis=1)\n",
    "    try:\n",
    "        data.target = data.target.str.extract(r'([0-9])').astype(int) - 1 \n",
    "\n",
    "        return data.loc[:,:'feat_93'], data.target\n",
    "    except AttributeError:\n",
    "        pass\n",
    "        return data\n",
    "    \n",
    "all_train_x, all_train_y = preprocess(all_train_raw)\n",
    "\n",
    "from sklearn.model_selection import train_test_split\n",
    "\n",
    "train_x, val_x, train_y, val_y = train_test_split(all_train_x, all_train_y, test_size=0.2, random_state=42)"
   ]
  },
  {
   "cell_type": "code",
   "execution_count": null,
   "metadata": {},
   "outputs": [],
   "source": []
  }
 ],
 "metadata": {
  "kernelspec": {
   "display_name": "Python 3",
   "language": "python",
   "name": "python3"
  },
  "language_info": {
   "codemirror_mode": {
    "name": "ipython",
    "version": 3
   },
   "file_extension": ".py",
   "mimetype": "text/x-python",
   "name": "python",
   "nbconvert_exporter": "python",
   "pygments_lexer": "ipython3",
   "version": "3.7.1"
  }
 },
 "nbformat": 4,
 "nbformat_minor": 2
}
